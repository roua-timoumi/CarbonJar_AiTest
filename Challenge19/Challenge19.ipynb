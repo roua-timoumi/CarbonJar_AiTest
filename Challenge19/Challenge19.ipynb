{
 "cells": [
  {
   "cell_type": "markdown",
   "id": "95a87aee-76c6-4b17-83e8-f6d2271848a3",
   "metadata": {},
   "source": [
    "Initial Planning and Time Allocation\n",
    "\n",
    "When you're given only 4 hours to tune an AI model and things aren't going as planned, it's easy to feel overwhelmed. But with a structured approach and calm mindset, it’s possible to make real progress. I usually start by taking 15–20 minutes to understand the dataset and model setup. This helps me set a clear plan: maybe 1 hour for quick baseline tuning, 2 hours for deeper experiments, and the last 30–45 minutes to analyze results and document findings. Having those time blocks in mind helps me stay focused.\n",
    "\n",
    "Prioritizing the Right Hyperparameters\n",
    "\n",
    "Next, I prioritize which hyperparameters to tune. For example, if I’m working with a Random Forest or XGBoost model, I’ll start with key parameters like max_depth, n_estimators, or learning_rate—because I know from experience these have the most impact. I avoid wasting time tweaking smaller details too early. I usually go with random search or opt for libraries that offer smarter optimization like Optuna, instead of traditional grid search, which can be too time-consuming.\n",
    "\n",
    "Knowing When to Stop\n",
    "\n",
    "During tuning, I always watch performance metrics closely. If I see that changes aren't improving validation accuracy or the loss is stuck, I stop and switch gears instead of chasing small gains. Also, using techniques like early stopping or training on a data subset in the beginning helps save a lot of time.\n",
    "\n",
    "Time for Review and Reporting\n",
    "\n",
    "I always make sure to save the last 30 minutes for reviewing results, plotting graphs, and writing a clear summary of what worked and what didn’t. It's frustrating to have a great model but no time left to explain your choices or save the final version properly.\n",
    "\n",
    "Real-World Example\n",
    "\n",
    "A real example of this was during a credit scoring challenge where I used XGBoost. I quickly tested a few max_depth and learning_rate combinations, and after reaching a reasonable score, I froze those and focused on tuning subsample and colsample_bytree. I ended with a 3% improvement in AUC—and more importantly, I had enough time to prepare a clean report and submit it confidently."
   ]
  }
 ],
 "metadata": {
  "kernelspec": {
   "display_name": "Python [conda env:base] *",
   "language": "python",
   "name": "conda-base-py"
  },
  "language_info": {
   "codemirror_mode": {
    "name": "ipython",
    "version": 3
   },
   "file_extension": ".py",
   "mimetype": "text/x-python",
   "name": "python",
   "nbconvert_exporter": "python",
   "pygments_lexer": "ipython3",
   "version": "3.12.7"
  }
 },
 "nbformat": 4,
 "nbformat_minor": 5
}
