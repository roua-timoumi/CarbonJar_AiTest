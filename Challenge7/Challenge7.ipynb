{
 "cells": [
  {
   "cell_type": "markdown",
   "id": "4ea71147-52ed-492f-81a2-4f7aa28532c2",
   "metadata": {},
   "source": [
    "**Embedding Domain Knowledge into AI**"
   ]
  },
  {
   "cell_type": "markdown",
   "id": "a7167f27-13e7-424e-9245-d3bdb46cb6a8",
   "metadata": {},
   "source": [
    "This code simulates an AI model that predicts emissions and applies a regulatory constraint. If the prediction exceeds the set cap (500.0), it is either capped or flagged as a regulatory breach. This ensures the model's output respects real-world limits."
   ]
  },
  {
   "cell_type": "code",
   "execution_count": 1,
   "id": "f0f0ab15-8de3-4838-970b-56ff906fa526",
   "metadata": {},
   "outputs": [
    {
     "name": "stdout",
     "output_type": "stream",
     "text": [
      "{'final_value': 500.0, 'breach_flag': True, 'original_prediction': 524.0660786258919, 'status': 'Regulatory Breach'}\n"
     ]
    }
   ],
   "source": [
    "import random\n",
    "\n",
    "REGULATORY_CAP = 500.0\n",
    "\n",
    "def predict_emissions_ml(input_data):\n",
    "    return random.uniform(450, 550)\n",
    "\n",
    "def apply_domain_knowledge(prediction):\n",
    "    if prediction > REGULATORY_CAP:\n",
    "        return {\n",
    "            \"final_value\": REGULATORY_CAP,\n",
    "            \"breach_flag\": True,\n",
    "            \"original_prediction\": prediction,\n",
    "            \"status\": \"Regulatory Breach\"\n",
    "        }\n",
    "    return {\n",
    "        \"final_value\": prediction,\n",
    "        \"breach_flag\": False,\n",
    "        \"original_prediction\": prediction,\n",
    "        \"status\": \"Compliant\"\n",
    "    }\n",
    "\n",
    "# Example \n",
    "prediction = predict_emissions_ml(None)\n",
    "result = apply_domain_knowledge(prediction)\n",
    "print(result)\n"
   ]
  },
  {
   "cell_type": "markdown",
   "id": "875a7c5a-5e74-42ad-9fbf-cbe03b09aae0",
   "metadata": {},
   "source": [
    "**Other Ways to Embed Domain Knowledge into AI Systems**"
   ]
  },
  {
   "cell_type": "markdown",
   "id": "c605132c-edb0-45f7-8b78-b66f4e955585",
   "metadata": {},
   "source": [
    "Feature Engineering\n",
    "This involves creating or modifying input variables based on known domain rules or constraints. For example, adding a feature that measures proximity to a regulatory threshold.\n",
    "Pros: Enriches the dataset with expert insights, potentially improving model accuracy.\n",
    "Cons: Requires deep domain understanding and can increase data preparation complexity.\n",
    "\n",
    "Hybrid Models (Rules + Machine Learning)\n",
    "Combines rule-based systems with statistical or deep learning models. For example, predictions from the model can be filtered or corrected using a rules engine.\n",
    "Pros: Ensures strict compliance with domain rules while leveraging the flexibility of machine learning.\n",
    "Cons: Can be complex to integrate and maintain, with possible conflicts between rules and learned behavior.\n",
    "\n",
    "Custom Loss Functions\n",
    "Modifying the loss function during training to penalize outputs that violate domain constraints.\n",
    "Pros: The model learns to avoid non-compliant predictions directly during training.\n",
    "Cons: Designing and tuning custom loss functions can be challenging, especially when constraints are not easily differentiable.\n",
    "\n",
    "Reinforcement Learning with Reward Shaping\n",
    "In reinforcement learning setups, the reward function can be adjusted to penalize violations of regulatory or domain-specific rules.\n",
    "Pros: Enables the system to adapt dynamically while learning optimal behavior under constraints.\n",
    "Cons: Requires well-designed environments and simulation setups, which can be resource-intensive."
   ]
  }
 ],
 "metadata": {
  "kernelspec": {
   "display_name": "Python [conda env:base] *",
   "language": "python",
   "name": "conda-base-py"
  },
  "language_info": {
   "codemirror_mode": {
    "name": "ipython",
    "version": 3
   },
   "file_extension": ".py",
   "mimetype": "text/x-python",
   "name": "python",
   "nbconvert_exporter": "python",
   "pygments_lexer": "ipython3",
   "version": "3.12.7"
  }
 },
 "nbformat": 4,
 "nbformat_minor": 5
}
