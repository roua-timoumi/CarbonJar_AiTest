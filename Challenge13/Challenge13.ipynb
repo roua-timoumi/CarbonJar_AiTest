{
 "cells": [
  {
   "cell_type": "markdown",
   "id": "e682c1f5-c816-49b6-a002-54adf717ddd5",
   "metadata": {},
   "source": [
    "**Transfer Learning Across Regions**"
   ]
  },
  {
   "cell_type": "markdown",
   "id": "fd5aa6e9-3201-43d4-85ea-80211f45a9f5",
   "metadata": {},
   "source": [
    "The code defines a neural network, loads simulated pre-trained weights, freezes the base layers, and fine-tunes only the final layer using a small simulated Egyptian dataset. This demonstrates transfer learning by adapting a pre-trained model to a new domain with limited data."
   ]
  },
  {
   "cell_type": "code",
   "execution_count": 4,
   "id": "759eb900-7d51-470b-86a0-a4a44b1caccc",
   "metadata": {},
   "outputs": [
    {
     "name": "stdout",
     "output_type": "stream",
     "text": [
      "Loading pre-trained weights (simulated)...\n",
      "Freezing base layers...\n",
      "Preparing Egyptian dataset...\n",
      "Starting fine-tuning...\n",
      "Epoch 1/10, Loss: 1.0166\n",
      "Epoch 2/10, Loss: 1.0562\n",
      "Epoch 3/10, Loss: 1.0598\n",
      "Epoch 4/10, Loss: 1.0154\n",
      "Epoch 5/10, Loss: 0.9920\n",
      "Epoch 6/10, Loss: 1.0768\n",
      "Epoch 7/10, Loss: 1.1197\n",
      "Epoch 8/10, Loss: 1.0087\n",
      "Epoch 9/10, Loss: 1.0632\n",
      "Epoch 10/10, Loss: 1.0427\n",
      "Fine-tuning complete!\n",
      "\n",
      "Parameter training status:\n",
      "base.0.weight: requires_grad=False\n",
      "base.0.bias: requires_grad=False\n",
      "base.2.weight: requires_grad=False\n",
      "base.2.bias: requires_grad=False\n",
      "classifier.weight: requires_grad=True\n",
      "classifier.bias: requires_grad=True\n"
     ]
    }
   ],
   "source": [
    "import torch\n",
    "import torch.nn as nn\n",
    "import torch.optim as optim\n",
    "from torch.utils.data import DataLoader, TensorDataset\n",
    "\n",
    "# Define the model\n",
    "class EmissionModel(nn.Module):\n",
    "    def __init__(self):\n",
    "        super().__init__()\n",
    "        self.base = nn.Sequential(\n",
    "            nn.Linear(10, 64),\n",
    "            nn.ReLU(),\n",
    "            nn.Linear(64, 32),\n",
    "            nn.ReLU()\n",
    "        )\n",
    "        self.classifier = nn.Linear(32, 1)\n",
    "    \n",
    "    def forward(self, x):\n",
    "        return self.classifier(self.base(x))\n",
    "\n",
    "# Initialize model\n",
    "model = EmissionModel()\n",
    "\n",
    "# 1. Simulate loading pre-trained weights (French data)\n",
    "print(\"Loading pre-trained weights (simulated)...\")\n",
    "pretrained_weights = {\n",
    "    'base.0.weight': torch.randn(64, 10) * 0.1,\n",
    "    'base.0.bias': torch.randn(64) * 0.1,\n",
    "    'base.2.weight': torch.randn(32, 64) * 0.1,\n",
    "    'base.2.bias': torch.randn(32) * 0.1,\n",
    "    'classifier.weight': torch.randn(1, 32) * 0.1,\n",
    "    'classifier.bias': torch.randn(1) * 0.1\n",
    "}\n",
    "model.load_state_dict(pretrained_weights)\n",
    "\n",
    "# 2. Freeze the base layers (feature extractor)\n",
    "print(\"Freezing base layers...\")\n",
    "for param in model.base.parameters():\n",
    "    param.requires_grad = False\n",
    "\n",
    "# 3. Set up for fine-tuning only the classifier\n",
    "optimizer = optim.Adam(model.classifier.parameters(), lr=0.001)\n",
    "criterion = nn.MSELoss() \n",
    "\n",
    "# Simulate Egyptian dataset \n",
    "print(\"Preparing Egyptian dataset...\")\n",
    "X_egypt = torch.randn(100, 10)  \n",
    "y_egypt = torch.randn(100, 1)   \n",
    "\n",
    "egypt_dataset = TensorDataset(X_egypt, y_egypt)\n",
    "egypt_loader = DataLoader(egypt_dataset, batch_size=16, shuffle=True)\n",
    "\n",
    "# Fine-tuning loop\n",
    "print(\"Starting fine-tuning...\")\n",
    "num_epochs = 10\n",
    "\n",
    "for epoch in range(num_epochs):\n",
    "    model.train()\n",
    "    running_loss = 0.0\n",
    "    \n",
    "    for inputs, targets in egypt_loader:\n",
    "        optimizer.zero_grad()\n",
    "        \n",
    "        outputs = model(inputs)\n",
    "        loss = criterion(outputs, targets)\n",
    "        loss.backward()\n",
    "        optimizer.step()\n",
    "        \n",
    "        running_loss += loss.item()\n",
    "    \n",
    "    epoch_loss = running_loss / len(egypt_loader)\n",
    "    print(f\"Epoch {epoch+1}/{num_epochs}, Loss: {epoch_loss:.4f}\")\n",
    "\n",
    "print(\"Fine-tuning complete!\")\n",
    "\n",
    "# Verify which layers are trainable\n",
    "print(\"\\nParameter training status:\")\n",
    "for name, param in model.named_parameters():\n",
    "    print(f\"{name}: requires_grad={param.requires_grad}\")"
   ]
  },
  {
   "cell_type": "code",
   "execution_count": null,
   "id": "a02aab5a-4fd0-409c-9f8c-ba5aaa556a65",
   "metadata": {},
   "outputs": [],
   "source": []
  }
 ],
 "metadata": {
  "kernelspec": {
   "display_name": "Python [conda env:base] *",
   "language": "python",
   "name": "conda-base-py"
  },
  "language_info": {
   "codemirror_mode": {
    "name": "ipython",
    "version": 3
   },
   "file_extension": ".py",
   "mimetype": "text/x-python",
   "name": "python",
   "nbconvert_exporter": "python",
   "pygments_lexer": "ipython3",
   "version": "3.12.7"
  }
 },
 "nbformat": 4,
 "nbformat_minor": 5
}
